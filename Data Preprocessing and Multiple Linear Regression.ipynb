{
 "cells": [
  {
   "cell_type": "code",
   "execution_count": 2,
   "id": "48e3d47b",
   "metadata": {},
   "outputs": [],
   "source": [
    "#Data preprocessing of feature Engineering\n",
    "#1)Check for Duplicate variables or columns\n",
    "#2)Check for Single value columns,whole column only single value \n",
    "#Describe in Python min=0,max=0,mean=0,median=0\n",
    "#3) Missing value imputation - To be done only if atleast 70% of column data is available.\n",
    "#If a variable has greater than 70% missing values impute with words like \"missing\" or \"Not Available\"\n",
    "#Numeric variable - impute with mean or median\n",
    "#categorical or non numerical variable - Mode imputation\n",
    "#Algorothm based imputation\n",
    "#a) Multivariate Imputation using chained equations(MICE) -Both Numeric and Non Numeric simultaneously\n",
    "#b)Tree based imputation methods -Decision Tree or Random forest\n",
    "#c) K Nearest Neighbours - KNN Imputer(Distance based)\n",
    "#Probabilistic Principal Component Analysis\n",
    "#4) Data Transformation - Dependent variables and Independent variables\n",
    "#Dependent variable-if skewness is there \n",
    "#+ve skewness - Logarthemic or square root transformation\n",
    "#-ve skewness - Exponential or power transformations\n",
    "#Independent variables -\n",
    "#Standard scaling or standardisation - (x mean )/std - z score\n",
    "#Standard scaling will be done when independent variables are in different Mathematical units\n",
    "#Normalisation or Min Max scaling - (X-min)/(X-Max) will scale all values "
   ]
  },
  {
   "cell_type": "code",
   "execution_count": 3,
   "id": "fc9884e6",
   "metadata": {},
   "outputs": [
    {
     "name": "stdout",
     "output_type": "stream",
     "text": [
      "E:\\Imarticus\\PGA18\\PYTHON\n"
     ]
    }
   ],
   "source": [
    "import io\n",
    "%cd \"E:\\Imarticus\\PGA18\\PYTHON\""
   ]
  },
  {
   "cell_type": "code",
   "execution_count": 4,
   "id": "bb7e32e1",
   "metadata": {},
   "outputs": [],
   "source": [
    "import pandas as pd\n",
    "import numpy as np\n",
    "import matplotlib.pyplot as plt\n",
    "%matplotlib inline"
   ]
  },
  {
   "cell_type": "code",
   "execution_count": 5,
   "id": "559d9a88",
   "metadata": {},
   "outputs": [],
   "source": [
    "bmtrain=pd.read_csv(\"train_v9rqX0R.csv\")"
   ]
  },
  {
   "cell_type": "code",
   "execution_count": 6,
   "id": "0b126ac6",
   "metadata": {},
   "outputs": [],
   "source": [
    "bmtest=pd.read_csv(\"test_AbJTz2l.csv\")"
   ]
  },
  {
   "cell_type": "code",
   "execution_count": 7,
   "id": "68e44b72",
   "metadata": {},
   "outputs": [
    {
     "name": "stdout",
     "output_type": "stream",
     "text": [
      "(8523, 12)\n",
      "(5681, 11)\n"
     ]
    }
   ],
   "source": [
    "print(bmtrain.shape)\n",
    "print(bmtest.shape)"
   ]
  },
  {
   "cell_type": "code",
   "execution_count": 8,
   "id": "0ce1e43d",
   "metadata": {},
   "outputs": [
    {
     "data": {
      "text/plain": [
       "Index(['Item_Identifier', 'Item_Weight', 'Item_Fat_Content', 'Item_Visibility',\n",
       "       'Item_Type', 'Item_MRP', 'Outlet_Identifier',\n",
       "       'Outlet_Establishment_Year', 'Outlet_Size', 'Outlet_Location_Type',\n",
       "       'Outlet_Type', 'Item_Outlet_Sales'],\n",
       "      dtype='object')"
      ]
     },
     "execution_count": 8,
     "metadata": {},
     "output_type": "execute_result"
    }
   ],
   "source": [
    "bmtrain.columns"
   ]
  },
  {
   "cell_type": "code",
   "execution_count": 9,
   "id": "eeb5de10",
   "metadata": {},
   "outputs": [
    {
     "data": {
      "text/plain": [
       "Index(['Item_Identifier', 'Item_Weight', 'Item_Fat_Content', 'Item_Visibility',\n",
       "       'Item_Type', 'Item_MRP', 'Outlet_Identifier',\n",
       "       'Outlet_Establishment_Year', 'Outlet_Size', 'Outlet_Location_Type',\n",
       "       'Outlet_Type'],\n",
       "      dtype='object')"
      ]
     },
     "execution_count": 9,
     "metadata": {},
     "output_type": "execute_result"
    }
   ],
   "source": [
    "bmtest.columns"
   ]
  },
  {
   "cell_type": "code",
   "execution_count": 10,
   "id": "c50e4c55",
   "metadata": {},
   "outputs": [],
   "source": [
    "# for preprocessing combine both train and test  data. For concatenation no. of variables must be equal,\n",
    "#add dependent variable to test data \n",
    "bmtest[\"Item_Outlet_Sales\"]='test'"
   ]
  },
  {
   "cell_type": "code",
   "execution_count": 11,
   "id": "4e1a9d3f",
   "metadata": {},
   "outputs": [],
   "source": [
    "combinedf=pd.concat([bmtrain,bmtest],axis=0)\n",
    "#axis=0 is row concatenation \n",
    "#axis=1 is column concatenation"
   ]
  },
  {
   "cell_type": "code",
   "execution_count": 12,
   "id": "5da5b9bd",
   "metadata": {},
   "outputs": [
    {
     "data": {
      "text/plain": [
       "(14204, 12)"
      ]
     },
     "execution_count": 12,
     "metadata": {},
     "output_type": "execute_result"
    }
   ],
   "source": [
    "combinedf.shape"
   ]
  },
  {
   "cell_type": "code",
   "execution_count": 13,
   "id": "a5da97f2",
   "metadata": {},
   "outputs": [
    {
     "data": {
      "text/plain": [
       "Index(['Item_Identifier', 'Item_Weight', 'Item_Fat_Content', 'Item_Visibility',\n",
       "       'Item_Type', 'Item_MRP', 'Outlet_Identifier',\n",
       "       'Outlet_Establishment_Year', 'Outlet_Size', 'Outlet_Location_Type',\n",
       "       'Outlet_Type', 'Item_Outlet_Sales'],\n",
       "      dtype='object')"
      ]
     },
     "execution_count": 13,
     "metadata": {},
     "output_type": "execute_result"
    }
   ],
   "source": [
    "combinedf.columns"
   ]
  },
  {
   "cell_type": "code",
   "execution_count": 14,
   "id": "4684cee9",
   "metadata": {},
   "outputs": [
    {
     "data": {
      "text/html": [
       "<div>\n",
       "<style scoped>\n",
       "    .dataframe tbody tr th:only-of-type {\n",
       "        vertical-align: middle;\n",
       "    }\n",
       "\n",
       "    .dataframe tbody tr th {\n",
       "        vertical-align: top;\n",
       "    }\n",
       "\n",
       "    .dataframe thead th {\n",
       "        text-align: right;\n",
       "    }\n",
       "</style>\n",
       "<table border=\"1\" class=\"dataframe\">\n",
       "  <thead>\n",
       "    <tr style=\"text-align: right;\">\n",
       "      <th></th>\n",
       "      <th>Item_Weight</th>\n",
       "      <th>Item_Visibility</th>\n",
       "      <th>Item_MRP</th>\n",
       "      <th>Outlet_Establishment_Year</th>\n",
       "    </tr>\n",
       "  </thead>\n",
       "  <tbody>\n",
       "    <tr>\n",
       "      <th>count</th>\n",
       "      <td>11765.000000</td>\n",
       "      <td>14204.000000</td>\n",
       "      <td>14204.000000</td>\n",
       "      <td>14204.000000</td>\n",
       "    </tr>\n",
       "    <tr>\n",
       "      <th>mean</th>\n",
       "      <td>12.792854</td>\n",
       "      <td>0.065953</td>\n",
       "      <td>141.004977</td>\n",
       "      <td>1997.830681</td>\n",
       "    </tr>\n",
       "    <tr>\n",
       "      <th>std</th>\n",
       "      <td>4.652502</td>\n",
       "      <td>0.051459</td>\n",
       "      <td>62.086938</td>\n",
       "      <td>8.371664</td>\n",
       "    </tr>\n",
       "    <tr>\n",
       "      <th>min</th>\n",
       "      <td>4.555000</td>\n",
       "      <td>0.000000</td>\n",
       "      <td>31.290000</td>\n",
       "      <td>1985.000000</td>\n",
       "    </tr>\n",
       "    <tr>\n",
       "      <th>25%</th>\n",
       "      <td>8.710000</td>\n",
       "      <td>0.027036</td>\n",
       "      <td>94.012000</td>\n",
       "      <td>1987.000000</td>\n",
       "    </tr>\n",
       "    <tr>\n",
       "      <th>50%</th>\n",
       "      <td>12.600000</td>\n",
       "      <td>0.054021</td>\n",
       "      <td>142.247000</td>\n",
       "      <td>1999.000000</td>\n",
       "    </tr>\n",
       "    <tr>\n",
       "      <th>75%</th>\n",
       "      <td>16.750000</td>\n",
       "      <td>0.094037</td>\n",
       "      <td>185.855600</td>\n",
       "      <td>2004.000000</td>\n",
       "    </tr>\n",
       "    <tr>\n",
       "      <th>max</th>\n",
       "      <td>21.350000</td>\n",
       "      <td>0.328391</td>\n",
       "      <td>266.888400</td>\n",
       "      <td>2009.000000</td>\n",
       "    </tr>\n",
       "  </tbody>\n",
       "</table>\n",
       "</div>"
      ],
      "text/plain": [
       "        Item_Weight  Item_Visibility      Item_MRP  Outlet_Establishment_Year\n",
       "count  11765.000000     14204.000000  14204.000000               14204.000000\n",
       "mean      12.792854         0.065953    141.004977                1997.830681\n",
       "std        4.652502         0.051459     62.086938                   8.371664\n",
       "min        4.555000         0.000000     31.290000                1985.000000\n",
       "25%        8.710000         0.027036     94.012000                1987.000000\n",
       "50%       12.600000         0.054021    142.247000                1999.000000\n",
       "75%       16.750000         0.094037    185.855600                2004.000000\n",
       "max       21.350000         0.328391    266.888400                2009.000000"
      ]
     },
     "execution_count": 14,
     "metadata": {},
     "output_type": "execute_result"
    }
   ],
   "source": [
    "combinedf.describe()"
   ]
  },
  {
   "cell_type": "code",
   "execution_count": 15,
   "id": "69f05b18",
   "metadata": {},
   "outputs": [
    {
     "data": {
      "text/plain": [
       "Outlet_Size                  4016\n",
       "Item_Weight                  2439\n",
       "Item_Identifier                 0\n",
       "Item_Fat_Content                0\n",
       "Item_Visibility                 0\n",
       "Item_Type                       0\n",
       "Item_MRP                        0\n",
       "Outlet_Identifier               0\n",
       "Outlet_Establishment_Year       0\n",
       "Outlet_Location_Type            0\n",
       "Outlet_Type                     0\n",
       "Item_Outlet_Sales               0\n",
       "dtype: int64"
      ]
     },
     "execution_count": 15,
     "metadata": {},
     "output_type": "execute_result"
    }
   ],
   "source": [
    "combinedf.isnull().sum().sort_values(ascending=False)"
   ]
  },
  {
   "cell_type": "code",
   "execution_count": 16,
   "id": "dcb4b919",
   "metadata": {},
   "outputs": [
    {
     "data": {
      "text/plain": [
       "Medium    4655\n",
       "NaN       4016\n",
       "Small     3980\n",
       "High      1553\n",
       "Name: Outlet_Size, dtype: int64"
      ]
     },
     "execution_count": 16,
     "metadata": {},
     "output_type": "execute_result"
    }
   ],
   "source": [
    "combinedf.Outlet_Size.value_counts(dropna=False)"
   ]
  },
  {
   "cell_type": "code",
   "execution_count": 17,
   "id": "c4149677",
   "metadata": {},
   "outputs": [],
   "source": [
    "combinedf.Outlet_Size=combinedf.Outlet_Size.fillna(\"Missing\")"
   ]
  },
  {
   "cell_type": "code",
   "execution_count": 18,
   "id": "da854233",
   "metadata": {},
   "outputs": [
    {
     "data": {
      "text/plain": [
       "Medium     4655\n",
       "Missing    4016\n",
       "Small      3980\n",
       "High       1553\n",
       "Name: Outlet_Size, dtype: int64"
      ]
     },
     "execution_count": 18,
     "metadata": {},
     "output_type": "execute_result"
    }
   ],
   "source": [
    "combinedf.Outlet_Size.value_counts(dropna=False)"
   ]
  },
  {
   "cell_type": "code",
   "execution_count": 19,
   "id": "2c24216e",
   "metadata": {},
   "outputs": [
    {
     "data": {
      "text/plain": [
       "count    11765.000000\n",
       "mean        12.792854\n",
       "std          4.652502\n",
       "min          4.555000\n",
       "25%          8.710000\n",
       "50%         12.600000\n",
       "75%         16.750000\n",
       "max         21.350000\n",
       "Name: Item_Weight, dtype: float64"
      ]
     },
     "execution_count": 19,
     "metadata": {},
     "output_type": "execute_result"
    }
   ],
   "source": [
    "combinedf.Item_Weight.describe()"
   ]
  },
  {
   "cell_type": "code",
   "execution_count": 20,
   "id": "5b68ffce",
   "metadata": {},
   "outputs": [],
   "source": [
    "combinedf.Item_Weight=combinedf.Item_Weight.fillna(combinedf.Item_Weight.median())"
   ]
  },
  {
   "cell_type": "code",
   "execution_count": 21,
   "id": "c485df4f",
   "metadata": {},
   "outputs": [
    {
     "data": {
      "text/plain": [
       "count    14204.000000\n",
       "mean        12.759739\n",
       "std          4.234851\n",
       "min          4.555000\n",
       "25%          9.300000\n",
       "50%         12.600000\n",
       "75%         16.000000\n",
       "max         21.350000\n",
       "Name: Item_Weight, dtype: float64"
      ]
     },
     "execution_count": 21,
     "metadata": {},
     "output_type": "execute_result"
    }
   ],
   "source": [
    "combinedf.Item_Weight.describe()"
   ]
  },
  {
   "cell_type": "code",
   "execution_count": 22,
   "id": "1a9152cc",
   "metadata": {},
   "outputs": [
    {
     "data": {
      "text/plain": [
       "0    FDA15\n",
       "1    DRC01\n",
       "2    FDN15\n",
       "3    FDX07\n",
       "4    NCD19\n",
       "Name: Item_Identifier, dtype: object"
      ]
     },
     "execution_count": 22,
     "metadata": {},
     "output_type": "execute_result"
    }
   ],
   "source": [
    "combinedf.Item_Identifier.head()"
   ]
  },
  {
   "cell_type": "code",
   "execution_count": 23,
   "id": "ea2d7ce8",
   "metadata": {},
   "outputs": [],
   "source": [
    "combinedf[\"Item_code\"]=combinedf.Item_Identifier.apply(lambda x:x[0:2])"
   ]
  },
  {
   "cell_type": "code",
   "execution_count": 24,
   "id": "62a34bca",
   "metadata": {},
   "outputs": [
    {
     "data": {
      "text/plain": [
       "FD    10201\n",
       "NC     2686\n",
       "DR     1317\n",
       "Name: Item_code, dtype: int64"
      ]
     },
     "execution_count": 24,
     "metadata": {},
     "output_type": "execute_result"
    }
   ],
   "source": [
    "combinedf.Item_code.value_counts()"
   ]
  },
  {
   "cell_type": "code",
   "execution_count": 25,
   "id": "08ea63ac",
   "metadata": {},
   "outputs": [
    {
     "data": {
      "text/plain": [
       "Low Fat    8485\n",
       "Regular    4824\n",
       "LF          522\n",
       "reg         195\n",
       "low fat     178\n",
       "Name: Item_Fat_Content, dtype: int64"
      ]
     },
     "execution_count": 25,
     "metadata": {},
     "output_type": "execute_result"
    }
   ],
   "source": [
    "combinedf.Item_Fat_Content.value_counts()"
   ]
  },
  {
   "cell_type": "code",
   "execution_count": 26,
   "id": "1fce5117",
   "metadata": {},
   "outputs": [],
   "source": [
    "combinedf.Item_Fat_Content=combinedf.Item_Fat_Content.replace(['LF','low fat'],'Low Fat')"
   ]
  },
  {
   "cell_type": "code",
   "execution_count": 27,
   "id": "2898bfdf",
   "metadata": {},
   "outputs": [],
   "source": [
    "combinedf.Item_Fat_Content=combinedf.Item_Fat_Content.replace('reg','Regular')"
   ]
  },
  {
   "cell_type": "code",
   "execution_count": 28,
   "id": "0351e9c3",
   "metadata": {},
   "outputs": [
    {
     "data": {
      "text/plain": [
       "Low Fat    9185\n",
       "Regular    5019\n",
       "Name: Item_Fat_Content, dtype: int64"
      ]
     },
     "execution_count": 28,
     "metadata": {},
     "output_type": "execute_result"
    }
   ],
   "source": [
    "combinedf.Item_Fat_Content.value_counts()"
   ]
  },
  {
   "cell_type": "code",
   "execution_count": 29,
   "id": "1816d427",
   "metadata": {},
   "outputs": [
    {
     "data": {
      "text/plain": [
       "count    14204.000000\n",
       "mean         0.065953\n",
       "std          0.051459\n",
       "min          0.000000\n",
       "25%          0.027036\n",
       "50%          0.054021\n",
       "75%          0.094037\n",
       "max          0.328391\n",
       "Name: Item_Visibility, dtype: float64"
      ]
     },
     "execution_count": 29,
     "metadata": {},
     "output_type": "execute_result"
    }
   ],
   "source": [
    "combinedf.Item_Visibility.describe()"
   ]
  },
  {
   "cell_type": "code",
   "execution_count": 30,
   "id": "83480226",
   "metadata": {},
   "outputs": [],
   "source": [
    "zerovisible=combinedf[combinedf.Item_Visibility==0]"
   ]
  },
  {
   "cell_type": "code",
   "execution_count": 31,
   "id": "41c0d9df",
   "metadata": {},
   "outputs": [
    {
     "data": {
      "text/plain": [
       "(879, 13)"
      ]
     },
     "execution_count": 31,
     "metadata": {},
     "output_type": "execute_result"
    }
   ],
   "source": [
    "zerovisible.shape"
   ]
  },
  {
   "cell_type": "code",
   "execution_count": 32,
   "id": "b82bb58b",
   "metadata": {},
   "outputs": [
    {
     "data": {
      "text/plain": [
       "Fruits and Vegetables    2013\n",
       "Snack Foods              1989\n",
       "Household                1548\n",
       "Frozen Foods             1426\n",
       "Dairy                    1136\n",
       "Baking Goods             1086\n",
       "Canned                   1084\n",
       "Health and Hygiene        858\n",
       "Meat                      736\n",
       "Soft Drinks               726\n",
       "Breads                    416\n",
       "Hard Drinks               362\n",
       "Others                    280\n",
       "Starchy Foods             269\n",
       "Breakfast                 186\n",
       "Seafood                    89\n",
       "Name: Item_Type, dtype: int64"
      ]
     },
     "execution_count": 32,
     "metadata": {},
     "output_type": "execute_result"
    }
   ],
   "source": [
    "combinedf.Item_Type.value_counts()"
   ]
  },
  {
   "cell_type": "code",
   "execution_count": 33,
   "id": "cf0e7f78",
   "metadata": {},
   "outputs": [
    {
     "data": {
      "text/plain": [
       "count    14204.000000\n",
       "mean       141.004977\n",
       "std         62.086938\n",
       "min         31.290000\n",
       "25%         94.012000\n",
       "50%        142.247000\n",
       "75%        185.855600\n",
       "max        266.888400\n",
       "Name: Item_MRP, dtype: float64"
      ]
     },
     "execution_count": 33,
     "metadata": {},
     "output_type": "execute_result"
    }
   ],
   "source": [
    "combinedf.Item_MRP.describe()"
   ]
  },
  {
   "cell_type": "code",
   "execution_count": 34,
   "id": "1ef018fa",
   "metadata": {},
   "outputs": [
    {
     "data": {
      "text/plain": [
       "OUT027    1559\n",
       "OUT013    1553\n",
       "OUT049    1550\n",
       "OUT046    1550\n",
       "OUT035    1550\n",
       "OUT045    1548\n",
       "OUT018    1546\n",
       "OUT017    1543\n",
       "OUT010     925\n",
       "OUT019     880\n",
       "Name: Outlet_Identifier, dtype: int64"
      ]
     },
     "execution_count": 34,
     "metadata": {},
     "output_type": "execute_result"
    }
   ],
   "source": [
    "combinedf.Outlet_Identifier.value_counts()"
   ]
  },
  {
   "cell_type": "code",
   "execution_count": 35,
   "id": "f2b5c619",
   "metadata": {},
   "outputs": [],
   "source": [
    "combinedf['Outlet_age']=2021-combinedf.Outlet_Establishment_Year"
   ]
  },
  {
   "cell_type": "code",
   "execution_count": 36,
   "id": "e9b1f09e",
   "metadata": {},
   "outputs": [
    {
     "data": {
      "text/plain": [
       "count    14204.000000\n",
       "mean        23.169319\n",
       "std          8.371664\n",
       "min         12.000000\n",
       "25%         17.000000\n",
       "50%         22.000000\n",
       "75%         34.000000\n",
       "max         36.000000\n",
       "Name: Outlet_age, dtype: float64"
      ]
     },
     "execution_count": 36,
     "metadata": {},
     "output_type": "execute_result"
    }
   ],
   "source": [
    "combinedf.Outlet_age.describe()"
   ]
  },
  {
   "cell_type": "code",
   "execution_count": 37,
   "id": "79e85bcc",
   "metadata": {},
   "outputs": [
    {
     "data": {
      "text/plain": [
       "Tier 3    5583\n",
       "Tier 2    4641\n",
       "Tier 1    3980\n",
       "Name: Outlet_Location_Type, dtype: int64"
      ]
     },
     "execution_count": 37,
     "metadata": {},
     "output_type": "execute_result"
    }
   ],
   "source": [
    "combinedf.Outlet_Location_Type.value_counts()"
   ]
  },
  {
   "cell_type": "code",
   "execution_count": 38,
   "id": "ac30a0cc",
   "metadata": {},
   "outputs": [
    {
     "data": {
      "text/plain": [
       "Supermarket Type1    9294\n",
       "Grocery Store        1805\n",
       "Supermarket Type3    1559\n",
       "Supermarket Type2    1546\n",
       "Name: Outlet_Type, dtype: int64"
      ]
     },
     "execution_count": 38,
     "metadata": {},
     "output_type": "execute_result"
    }
   ],
   "source": [
    "combinedf.Outlet_Type.value_counts()"
   ]
  },
  {
   "cell_type": "code",
   "execution_count": 54,
   "id": "79cb568f",
   "metadata": {},
   "outputs": [],
   "source": [
    "numericcols=combinedf.select_dtypes(include=np.number)\n",
    "objectcols=combinedf.select_dtypes(include=[\"object\"])"
   ]
  },
  {
   "cell_type": "code",
   "execution_count": 55,
   "id": "f74be9a3",
   "metadata": {},
   "outputs": [
    {
     "data": {
      "text/plain": [
       "Index(['Item_Identifier', 'Item_Fat_Content', 'Item_Type', 'Outlet_Identifier',\n",
       "       'Outlet_Size', 'Outlet_Location_Type', 'Outlet_Type',\n",
       "       'Item_Outlet_Sales', 'Item_code'],\n",
       "      dtype='object')"
      ]
     },
     "execution_count": 55,
     "metadata": {},
     "output_type": "execute_result"
    }
   ],
   "source": [
    "objectcols.columns"
   ]
  },
  {
   "cell_type": "code",
   "execution_count": 56,
   "id": "aeab83c8",
   "metadata": {},
   "outputs": [
    {
     "data": {
      "text/plain": [
       "Index(['Item_Weight', 'Item_Visibility', 'Item_MRP',\n",
       "       'Outlet_Establishment_Year', 'Outlet_age'],\n",
       "      dtype='object')"
      ]
     },
     "execution_count": 56,
     "metadata": {},
     "output_type": "execute_result"
    }
   ],
   "source": [
    "numericcols.columns"
   ]
  },
  {
   "cell_type": "code",
   "execution_count": 57,
   "id": "bfe42061",
   "metadata": {},
   "outputs": [
    {
     "name": "stderr",
     "output_type": "stream",
     "text": [
      "C:\\Users\\Omprakash\\AppData\\Local\\Temp/ipykernel_12684/2502089491.py:1: SettingWithCopyWarning: \n",
      "A value is trying to be set on a copy of a slice from a DataFrame.\n",
      "Try using .loc[row_indexer,col_indexer] = value instead\n",
      "\n",
      "See the caveats in the documentation: https://pandas.pydata.org/pandas-docs/stable/user_guide/indexing.html#returning-a-view-versus-a-copy\n",
      "  numericcols[\"Item_Outlet_Sales\"]=objectcols.Item_Outlet_Sales\n"
     ]
    }
   ],
   "source": [
    "numericcols[\"Item_Outlet_Sales\"]=objectcols.Item_Outlet_Sales"
   ]
  },
  {
   "cell_type": "code",
   "execution_count": 58,
   "id": "7c31727f",
   "metadata": {},
   "outputs": [],
   "source": [
    "objectcols=objectcols.drop(['Item_Outlet_Sales','Item_Identifier'],axis=1)\n",
    "#axis = 1 is column dropping\n",
    "#axis = 0 is row dropping"
   ]
  },
  {
   "cell_type": "code",
   "execution_count": 59,
   "id": "49904837",
   "metadata": {},
   "outputs": [],
   "source": [
    "#Dummy encode or Label Encode Non Numeric Object Data\n",
    "objectcolsdummy=pd.get_dummies(objectcols)"
   ]
  },
  {
   "cell_type": "code",
   "execution_count": 60,
   "id": "e8dba9c7",
   "metadata": {},
   "outputs": [
    {
     "name": "stdout",
     "output_type": "stream",
     "text": [
      "(14204, 7)\n",
      "(14204, 42)\n"
     ]
    }
   ],
   "source": [
    "print(objectcols.shape)\n",
    "print(objectcolsdummy.shape)"
   ]
  },
  {
   "cell_type": "code",
   "execution_count": 61,
   "id": "e8665a30",
   "metadata": {},
   "outputs": [
    {
     "data": {
      "text/html": [
       "<div>\n",
       "<style scoped>\n",
       "    .dataframe tbody tr th:only-of-type {\n",
       "        vertical-align: middle;\n",
       "    }\n",
       "\n",
       "    .dataframe tbody tr th {\n",
       "        vertical-align: top;\n",
       "    }\n",
       "\n",
       "    .dataframe thead th {\n",
       "        text-align: right;\n",
       "    }\n",
       "</style>\n",
       "<table border=\"1\" class=\"dataframe\">\n",
       "  <thead>\n",
       "    <tr style=\"text-align: right;\">\n",
       "      <th></th>\n",
       "      <th>Item_Fat_Content_Low Fat</th>\n",
       "      <th>Item_Fat_Content_Regular</th>\n",
       "      <th>Item_Type_Baking Goods</th>\n",
       "      <th>Item_Type_Breads</th>\n",
       "      <th>Item_Type_Breakfast</th>\n",
       "      <th>Item_Type_Canned</th>\n",
       "      <th>Item_Type_Dairy</th>\n",
       "      <th>Item_Type_Frozen Foods</th>\n",
       "      <th>Item_Type_Fruits and Vegetables</th>\n",
       "      <th>Item_Type_Hard Drinks</th>\n",
       "      <th>...</th>\n",
       "      <th>Outlet_Location_Type_Tier 1</th>\n",
       "      <th>Outlet_Location_Type_Tier 2</th>\n",
       "      <th>Outlet_Location_Type_Tier 3</th>\n",
       "      <th>Outlet_Type_Grocery Store</th>\n",
       "      <th>Outlet_Type_Supermarket Type1</th>\n",
       "      <th>Outlet_Type_Supermarket Type2</th>\n",
       "      <th>Outlet_Type_Supermarket Type3</th>\n",
       "      <th>Item_code_DR</th>\n",
       "      <th>Item_code_FD</th>\n",
       "      <th>Item_code_NC</th>\n",
       "    </tr>\n",
       "  </thead>\n",
       "  <tbody>\n",
       "    <tr>\n",
       "      <th>0</th>\n",
       "      <td>1</td>\n",
       "      <td>0</td>\n",
       "      <td>0</td>\n",
       "      <td>0</td>\n",
       "      <td>0</td>\n",
       "      <td>0</td>\n",
       "      <td>1</td>\n",
       "      <td>0</td>\n",
       "      <td>0</td>\n",
       "      <td>0</td>\n",
       "      <td>...</td>\n",
       "      <td>1</td>\n",
       "      <td>0</td>\n",
       "      <td>0</td>\n",
       "      <td>0</td>\n",
       "      <td>1</td>\n",
       "      <td>0</td>\n",
       "      <td>0</td>\n",
       "      <td>0</td>\n",
       "      <td>1</td>\n",
       "      <td>0</td>\n",
       "    </tr>\n",
       "    <tr>\n",
       "      <th>1</th>\n",
       "      <td>0</td>\n",
       "      <td>1</td>\n",
       "      <td>0</td>\n",
       "      <td>0</td>\n",
       "      <td>0</td>\n",
       "      <td>0</td>\n",
       "      <td>0</td>\n",
       "      <td>0</td>\n",
       "      <td>0</td>\n",
       "      <td>0</td>\n",
       "      <td>...</td>\n",
       "      <td>0</td>\n",
       "      <td>0</td>\n",
       "      <td>1</td>\n",
       "      <td>0</td>\n",
       "      <td>0</td>\n",
       "      <td>1</td>\n",
       "      <td>0</td>\n",
       "      <td>1</td>\n",
       "      <td>0</td>\n",
       "      <td>0</td>\n",
       "    </tr>\n",
       "    <tr>\n",
       "      <th>2</th>\n",
       "      <td>1</td>\n",
       "      <td>0</td>\n",
       "      <td>0</td>\n",
       "      <td>0</td>\n",
       "      <td>0</td>\n",
       "      <td>0</td>\n",
       "      <td>0</td>\n",
       "      <td>0</td>\n",
       "      <td>0</td>\n",
       "      <td>0</td>\n",
       "      <td>...</td>\n",
       "      <td>1</td>\n",
       "      <td>0</td>\n",
       "      <td>0</td>\n",
       "      <td>0</td>\n",
       "      <td>1</td>\n",
       "      <td>0</td>\n",
       "      <td>0</td>\n",
       "      <td>0</td>\n",
       "      <td>1</td>\n",
       "      <td>0</td>\n",
       "    </tr>\n",
       "    <tr>\n",
       "      <th>3</th>\n",
       "      <td>0</td>\n",
       "      <td>1</td>\n",
       "      <td>0</td>\n",
       "      <td>0</td>\n",
       "      <td>0</td>\n",
       "      <td>0</td>\n",
       "      <td>0</td>\n",
       "      <td>0</td>\n",
       "      <td>1</td>\n",
       "      <td>0</td>\n",
       "      <td>...</td>\n",
       "      <td>0</td>\n",
       "      <td>0</td>\n",
       "      <td>1</td>\n",
       "      <td>1</td>\n",
       "      <td>0</td>\n",
       "      <td>0</td>\n",
       "      <td>0</td>\n",
       "      <td>0</td>\n",
       "      <td>1</td>\n",
       "      <td>0</td>\n",
       "    </tr>\n",
       "    <tr>\n",
       "      <th>4</th>\n",
       "      <td>1</td>\n",
       "      <td>0</td>\n",
       "      <td>0</td>\n",
       "      <td>0</td>\n",
       "      <td>0</td>\n",
       "      <td>0</td>\n",
       "      <td>0</td>\n",
       "      <td>0</td>\n",
       "      <td>0</td>\n",
       "      <td>0</td>\n",
       "      <td>...</td>\n",
       "      <td>0</td>\n",
       "      <td>0</td>\n",
       "      <td>1</td>\n",
       "      <td>0</td>\n",
       "      <td>1</td>\n",
       "      <td>0</td>\n",
       "      <td>0</td>\n",
       "      <td>0</td>\n",
       "      <td>0</td>\n",
       "      <td>1</td>\n",
       "    </tr>\n",
       "  </tbody>\n",
       "</table>\n",
       "<p>5 rows × 42 columns</p>\n",
       "</div>"
      ],
      "text/plain": [
       "   Item_Fat_Content_Low Fat  Item_Fat_Content_Regular  Item_Type_Baking Goods  \\\n",
       "0                         1                         0                       0   \n",
       "1                         0                         1                       0   \n",
       "2                         1                         0                       0   \n",
       "3                         0                         1                       0   \n",
       "4                         1                         0                       0   \n",
       "\n",
       "   Item_Type_Breads  Item_Type_Breakfast  Item_Type_Canned  Item_Type_Dairy  \\\n",
       "0                 0                    0                 0                1   \n",
       "1                 0                    0                 0                0   \n",
       "2                 0                    0                 0                0   \n",
       "3                 0                    0                 0                0   \n",
       "4                 0                    0                 0                0   \n",
       "\n",
       "   Item_Type_Frozen Foods  Item_Type_Fruits and Vegetables  \\\n",
       "0                       0                                0   \n",
       "1                       0                                0   \n",
       "2                       0                                0   \n",
       "3                       0                                1   \n",
       "4                       0                                0   \n",
       "\n",
       "   Item_Type_Hard Drinks  ...  Outlet_Location_Type_Tier 1  \\\n",
       "0                      0  ...                            1   \n",
       "1                      0  ...                            0   \n",
       "2                      0  ...                            1   \n",
       "3                      0  ...                            0   \n",
       "4                      0  ...                            0   \n",
       "\n",
       "   Outlet_Location_Type_Tier 2  Outlet_Location_Type_Tier 3  \\\n",
       "0                            0                            0   \n",
       "1                            0                            1   \n",
       "2                            0                            0   \n",
       "3                            0                            1   \n",
       "4                            0                            1   \n",
       "\n",
       "   Outlet_Type_Grocery Store  Outlet_Type_Supermarket Type1  \\\n",
       "0                          0                              1   \n",
       "1                          0                              0   \n",
       "2                          0                              1   \n",
       "3                          1                              0   \n",
       "4                          0                              1   \n",
       "\n",
       "   Outlet_Type_Supermarket Type2  Outlet_Type_Supermarket Type3  Item_code_DR  \\\n",
       "0                              0                              0             0   \n",
       "1                              1                              0             1   \n",
       "2                              0                              0             0   \n",
       "3                              0                              0             0   \n",
       "4                              0                              0             0   \n",
       "\n",
       "   Item_code_FD  Item_code_NC  \n",
       "0             1             0  \n",
       "1             0             0  \n",
       "2             1             0  \n",
       "3             1             0  \n",
       "4             0             1  \n",
       "\n",
       "[5 rows x 42 columns]"
      ]
     },
     "execution_count": 61,
     "metadata": {},
     "output_type": "execute_result"
    }
   ],
   "source": [
    "objectcolsdummy.head()"
   ]
  },
  {
   "cell_type": "code",
   "execution_count": 62,
   "id": "e23c7daa",
   "metadata": {},
   "outputs": [
    {
     "data": {
      "text/plain": [
       "Index(['Item_Weight', 'Item_Visibility', 'Item_MRP',\n",
       "       'Outlet_Establishment_Year', 'Outlet_age', 'Item_Outlet_Sales'],\n",
       "      dtype='object')"
      ]
     },
     "execution_count": 62,
     "metadata": {},
     "output_type": "execute_result"
    }
   ],
   "source": [
    "numericcols.columns"
   ]
  },
  {
   "cell_type": "code",
   "execution_count": 63,
   "id": "a0179c5b",
   "metadata": {},
   "outputs": [],
   "source": [
    "numericcols=numericcols.drop('Outlet_Establishment_Year',axis=1)"
   ]
  },
  {
   "cell_type": "code",
   "execution_count": 64,
   "id": "e9da044f",
   "metadata": {},
   "outputs": [],
   "source": [
    "combinedfclean=pd.concat([numericcols,objectcolsdummy],axis=1)\n",
    "#column concatenation"
   ]
  },
  {
   "cell_type": "code",
   "execution_count": 65,
   "id": "e0eed688",
   "metadata": {},
   "outputs": [
    {
     "data": {
      "text/plain": [
       "(14204, 47)"
      ]
     },
     "execution_count": 65,
     "metadata": {},
     "output_type": "execute_result"
    }
   ],
   "source": [
    "combinedfclean.shape"
   ]
  },
  {
   "cell_type": "code",
   "execution_count": 67,
   "id": "c332332e",
   "metadata": {},
   "outputs": [],
   "source": [
    "bigmarttraindf=combinedfclean[combinedfclean.Item_Outlet_Sales!='test']\n",
    "bigmarttestdf=combinedfclean[combinedfclean.Item_Outlet_Sales=='test']"
   ]
  },
  {
   "cell_type": "code",
   "execution_count": 68,
   "id": "ae40305c",
   "metadata": {},
   "outputs": [],
   "source": [
    "bigmarttestdf=bigmarttestdf.drop('Item_Outlet_Sales',axis=1)"
   ]
  },
  {
   "cell_type": "code",
   "execution_count": 71,
   "id": "45031908",
   "metadata": {},
   "outputs": [
    {
     "data": {
      "text/plain": [
       "Item_Weight                        float64\n",
       "Item_Visibility                    float64\n",
       "Item_MRP                           float64\n",
       "Outlet_age                           int64\n",
       "Item_Outlet_Sales                  float64\n",
       "Item_Fat_Content_Low Fat             uint8\n",
       "Item_Fat_Content_Regular             uint8\n",
       "Item_Type_Baking Goods               uint8\n",
       "Item_Type_Breads                     uint8\n",
       "Item_Type_Breakfast                  uint8\n",
       "Item_Type_Canned                     uint8\n",
       "Item_Type_Dairy                      uint8\n",
       "Item_Type_Frozen Foods               uint8\n",
       "Item_Type_Fruits and Vegetables      uint8\n",
       "Item_Type_Hard Drinks                uint8\n",
       "Item_Type_Health and Hygiene         uint8\n",
       "Item_Type_Household                  uint8\n",
       "Item_Type_Meat                       uint8\n",
       "Item_Type_Others                     uint8\n",
       "Item_Type_Seafood                    uint8\n",
       "Item_Type_Snack Foods                uint8\n",
       "Item_Type_Soft Drinks                uint8\n",
       "Item_Type_Starchy Foods              uint8\n",
       "Outlet_Identifier_OUT010             uint8\n",
       "Outlet_Identifier_OUT013             uint8\n",
       "Outlet_Identifier_OUT017             uint8\n",
       "Outlet_Identifier_OUT018             uint8\n",
       "Outlet_Identifier_OUT019             uint8\n",
       "Outlet_Identifier_OUT027             uint8\n",
       "Outlet_Identifier_OUT035             uint8\n",
       "Outlet_Identifier_OUT045             uint8\n",
       "Outlet_Identifier_OUT046             uint8\n",
       "Outlet_Identifier_OUT049             uint8\n",
       "Outlet_Size_High                     uint8\n",
       "Outlet_Size_Medium                   uint8\n",
       "Outlet_Size_Missing                  uint8\n",
       "Outlet_Size_Small                    uint8\n",
       "Outlet_Location_Type_Tier 1          uint8\n",
       "Outlet_Location_Type_Tier 2          uint8\n",
       "Outlet_Location_Type_Tier 3          uint8\n",
       "Outlet_Type_Grocery Store            uint8\n",
       "Outlet_Type_Supermarket Type1        uint8\n",
       "Outlet_Type_Supermarket Type2        uint8\n",
       "Outlet_Type_Supermarket Type3        uint8\n",
       "Item_code_DR                         uint8\n",
       "Item_code_FD                         uint8\n",
       "Item_code_NC                         uint8\n",
       "dtype: object"
      ]
     },
     "execution_count": 71,
     "metadata": {},
     "output_type": "execute_result"
    }
   ],
   "source": [
    "bigmarttraindf.dtypes"
   ]
  },
  {
   "cell_type": "code",
   "execution_count": 70,
   "id": "6e23c218",
   "metadata": {},
   "outputs": [
    {
     "name": "stderr",
     "output_type": "stream",
     "text": [
      "C:\\Users\\Omprakash\\anaconda3\\lib\\site-packages\\pandas\\core\\generic.py:5516: SettingWithCopyWarning: \n",
      "A value is trying to be set on a copy of a slice from a DataFrame.\n",
      "Try using .loc[row_indexer,col_indexer] = value instead\n",
      "\n",
      "See the caveats in the documentation: https://pandas.pydata.org/pandas-docs/stable/user_guide/indexing.html#returning-a-view-versus-a-copy\n",
      "  self[name] = value\n"
     ]
    }
   ],
   "source": [
    "bigmarttraindf.Item_Outlet_Sales=pd.to_numeric(bigmarttraindf.Item_Outlet_Sales)"
   ]
  },
  {
   "cell_type": "code",
   "execution_count": 125,
   "id": "eedaf31d",
   "metadata": {},
   "outputs": [
    {
     "data": {
      "text/plain": [
       "<AxesSubplot:ylabel='Item_Outlet_Sales'>"
      ]
     },
     "execution_count": 125,
     "metadata": {},
     "output_type": "execute_result"
    },
    {
     "data": {
      "image/png": "[encoded data removed]",
      "text/plain": [
       "<Figure size 432x288 with 1 Axes>"
      ]
     },
     "metadata": {},
     "output_type": "display_data"
    }
   ],
   "source": [
    "bmtrain.Item_Outlet_Sales.groupby(bmtrain.Outlet_Size).sum().plot(kind=\"pie\",autopct=\"%1.1f%%\")"
   ]
  },
  {
   "cell_type": "code",
   "execution_count": 126,
   "id": "9cdfce07",
   "metadata": {},
   "outputs": [
    {
     "data": {
      "text/plain": [
       "<AxesSubplot:ylabel='Item_Outlet_Sales'>"
      ]
     },
     "execution_count": 126,
     "metadata": {},
     "output_type": "execute_result"
    },
    {
     "data": {
      "image/png": "[encoded data removed]",
      "text/plain": [
       "<Figure size 432x288 with 1 Axes>"
      ]
     },
     "metadata": {},
     "output_type": "display_data"
    }
   ],
   "source": [
    "bmtrain.Item_Outlet_Sales.groupby(bmtrain.Outlet_Location_Type).sum().plot(kind=\"pie\",autopct=\"%1.1f%%\")"
   ]
  },
  {
   "cell_type": "code",
   "execution_count": 127,
   "id": "e1ded21c",
   "metadata": {},
   "outputs": [
    {
     "data": {
      "text/plain": [
       "<AxesSubplot:xlabel='Item_Type'>"
      ]
     },
     "execution_count": 127,
     "metadata": {},
     "output_type": "execute_result"
    },
    {
     "data": {
      "image/png": "[encoded data removed]",
      "text/plain": [
       "<Figure size 432x288 with 1 Axes>"
      ]
     },
     "metadata": {
      "needs_background": "light"
     },
     "output_type": "display_data"
    }
   ],
   "source": [
    "bmtrain.Item_Outlet_Sales.groupby(bmtrain.Item_Type).sum().plot(kind=\"bar\")"
   ]
  },
  {
   "cell_type": "code",
   "execution_count": 114,
   "id": "224d2910",
   "metadata": {},
   "outputs": [
    {
     "data": {
      "text/plain": [
       "Outlet_Type\n",
       "Grocery Store         339.828500\n",
       "Supermarket Type1    2316.181148\n",
       "Supermarket Type2    1995.498739\n",
       "Supermarket Type3    3694.038558\n",
       "Name: Item_Outlet_Sales, dtype: float64"
      ]
     },
     "execution_count": 114,
     "metadata": {},
     "output_type": "execute_result"
    }
   ],
   "source": [
    "#What is the Average Item_Outlet_Sales for different Outlet_Type?\n",
    "bmtrain.Item_Outlet_Sales.groupby(bmtrain.Outlet_Type).mean()"
   ]
  },
  {
   "cell_type": "code",
   "execution_count": 116,
   "id": "e0037966",
   "metadata": {},
   "outputs": [],
   "source": [
    "#Test NULL Average Item_Outlet_Sales for different Outlet_Type \n",
    "gs=bmtrain[bmtrain.Outlet_Type==\"Grocery Store\"]\n",
    "st1=bmtrain[bmtrain.Outlet_Type==\"Supermarket Type1\"]\n",
    "st2=bmtrain[bmtrain.Outlet_Type==\"Supermarket Type2\"]\n",
    "st3=bmtrain[bmtrain.Outlet_Type==\"Supermarket Type3\"]"
   ]
  },
  {
   "cell_type": "code",
   "execution_count": 117,
   "id": "0aad2e22",
   "metadata": {},
   "outputs": [],
   "source": [
    "from scipy.stats import f_oneway"
   ]
  },
  {
   "cell_type": "code",
   "execution_count": 118,
   "id": "21517e57",
   "metadata": {},
   "outputs": [
    {
     "data": {
      "text/plain": [
       "F_onewayResult(statistic=894.6500119018012, pvalue=0.0)"
      ]
     },
     "execution_count": 118,
     "metadata": {},
     "output_type": "execute_result"
    }
   ],
   "source": [
    "f_oneway(gs.Item_Outlet_Sales,st1.Item_Outlet_Sales,st2.Item_Outlet_Sales,st3.Item_Outlet_Sales)\n",
    "# Since p-value is less than 0.05 REJECT NULL"
   ]
  },
  {
   "cell_type": "code",
   "execution_count": 119,
   "id": "79a80204",
   "metadata": {},
   "outputs": [
    {
     "data": {
      "text/plain": [
       "Outlet_Location_Type\n",
       "Tier 1    1876.909159\n",
       "Tier 2    2323.990559\n",
       "Tier 3    2279.627651\n",
       "Name: Item_Outlet_Sales, dtype: float64"
      ]
     },
     "execution_count": 119,
     "metadata": {},
     "output_type": "execute_result"
    }
   ],
   "source": [
    "#What is Average Item_Outlet_Sales by different Outlet_Location_Type?\n",
    "bmtrain.Item_Outlet_Sales.groupby(bmtrain.Outlet_Location_Type).mean()"
   ]
  },
  {
   "cell_type": "code",
   "execution_count": 121,
   "id": "0c8c0cad",
   "metadata": {},
   "outputs": [],
   "source": [
    "t1=bmtrain[bmtrain.Outlet_Location_Type==\"Tier 1\"]\n",
    "t2=bmtrain[bmtrain.Outlet_Location_Type==\"Tier 2\"]\n",
    "t3=bmtrain[bmtrain.Outlet_Location_Type==\"Tier 3\"]"
   ]
  },
  {
   "cell_type": "code",
   "execution_count": 122,
   "id": "a65fca8b",
   "metadata": {},
   "outputs": [
    {
     "data": {
      "text/plain": [
       "F_onewayResult(statistic=53.947739874560675, pvalue=5.2228172988842975e-24)"
      ]
     },
     "execution_count": 122,
     "metadata": {},
     "output_type": "execute_result"
    }
   ],
   "source": [
    "f_oneway(t1.Item_Outlet_Sales,t2.Item_Outlet_Sales,t3.Item_Outlet_Sales) \n",
    "# Since p-value is less than 0.05 REJECT NULL"
   ]
  },
  {
   "cell_type": "code",
   "execution_count": null,
   "id": "46f8dd57",
   "metadata": {},
   "outputs": [],
   "source": [
    "# test null there is no association b/w outlet typr and outlet location type"
   ]
  },
  {
   "cell_type": "code",
   "execution_count": 123,
   "id": "7d0b8d4a",
   "metadata": {},
   "outputs": [],
   "source": [
    "from scipy.stats import chi2_contingency"
   ]
  },
  {
   "cell_type": "code",
   "execution_count": 124,
   "id": "53317361",
   "metadata": {},
   "outputs": [
    {
     "data": {
      "text/plain": [
       "(4725.606588766826,\n",
       " 0.0,\n",
       " 6,\n",
       " array([[ 303.43822598,  353.88419571,  425.67757832],\n",
       "        [1562.58078141, 1822.35656459, 2192.062654  ],\n",
       "        [ 260.00985568,  303.23594978,  364.75419453],\n",
       "        [ 261.97113692,  305.52328992,  367.50557315]]))"
      ]
     },
     "execution_count": 124,
     "metadata": {},
     "output_type": "execute_result"
    }
   ],
   "source": [
    "chi2_contingency(pd.crosstab(bmtrain.Outlet_Type,bmtrain.Outlet_Location_Type))\n",
    "#since p- value is less than 0.05 REJECT NULL"
   ]
  },
  {
   "cell_type": "code",
   "execution_count": 84,
   "id": "daae3949",
   "metadata": {},
   "outputs": [],
   "source": [
    "y=bigmarttraindf.Item_Outlet_Sales  # Dependent Variable\n",
    "X=bigmarttraindf.drop('Item_Outlet_Sales',axis=1) #Indeoendent Variable"
   ]
  },
  {
   "cell_type": "code",
   "execution_count": 85,
   "id": "a7bbc876",
   "metadata": {},
   "outputs": [
    {
     "data": {
      "text/plain": [
       "<AxesSubplot:ylabel='Frequency'>"
      ]
     },
     "execution_count": 85,
     "metadata": {},
     "output_type": "execute_result"
    },
    {
     "data": {
      "image/png": "[encoded data removed]",
      "text/plain": [
       "<Figure size 432x288 with 1 Axes>"
      ]
     },
     "metadata": {
      "needs_background": "light"
     },
     "output_type": "display_data"
    }
   ],
   "source": [
    "y.plot(kind='hist')"
   ]
  },
  {
   "cell_type": "code",
   "execution_count": 86,
   "id": "77d73c2f",
   "metadata": {},
   "outputs": [
    {
     "data": {
      "text/plain": [
       "<AxesSubplot:>"
      ]
     },
     "execution_count": 86,
     "metadata": {},
     "output_type": "execute_result"
    },
    {
     "data": {
      "image/png": "[encoded data removed]",
      "text/plain": [
       "<Figure size 432x288 with 1 Axes>"
      ]
     },
     "metadata": {
      "needs_background": "light"
     },
     "output_type": "display_data"
    }
   ],
   "source": [
    "y.plot(kind=\"box\",vert=False)"
   ]
  },
  {
   "cell_type": "code",
   "execution_count": 87,
   "id": "c5374d7f",
   "metadata": {},
   "outputs": [
    {
     "data": {
      "text/plain": [
       "<AxesSubplot:ylabel='Density'>"
      ]
     },
     "execution_count": 87,
     "metadata": {},
     "output_type": "execute_result"
    },
    {
     "data": {
      "image/png": "[encoded data removed]",
      "text/plain": [
       "<Figure size 432x288 with 1 Axes>"
      ]
     },
     "metadata": {
      "needs_background": "light"
     },
     "output_type": "display_data"
    }
   ],
   "source": [
    "y.plot(kind='density')"
   ]
  },
  {
   "cell_type": "code",
   "execution_count": 88,
   "id": "be5d70a3",
   "metadata": {},
   "outputs": [
    {
     "name": "stdout",
     "output_type": "stream",
     "text": [
      "1.1775306028542796\n",
      "1.6158766814287264\n"
     ]
    }
   ],
   "source": [
    "print(y.skew())\n",
    "print(y.kurt())"
   ]
  },
  {
   "cell_type": "code",
   "execution_count": 91,
   "id": "74ed7adb",
   "metadata": {},
   "outputs": [],
   "source": [
    "#Supervised Learning - Regression Models\n",
    "#Multiple Linear Regression explains a linear relationship b/w a dependent variable(y) and multiple independent variables (X)\n",
    "#Multiple Linear Regression is an equation y=B0+B1X1+B2X2+B3X3+.........+BnXn+Et\n",
    "\n",
    "#Matrix Formulation of Multiple Linear regression \n",
    "#[B0,B1,B2,....,Bn]=(X`*X)^-1*X`*y\n",
    "#X`- transpose of X\n",
    "#X - Independent variables"
   ]
  },
  {
   "cell_type": "code",
   "execution_count": 92,
   "id": "22da18f6",
   "metadata": {},
   "outputs": [],
   "source": [
    "#Interpretetion of output in Python\n",
    "#1) R square explains the amount of variance caused in dependent variable by the model or Independent variables.\n",
    "#preferred range(0.6-0.9)\n",
    "#2)Intercept + coefficients\n",
    "#coefficient means one unit change in the variable will lead to coefficient value change in dependent variable \n",
    "#Diagnostic for all Regression Models\n",
    "#Root mean square error (RMSE)\n"
   ]
  },
  {
   "cell_type": "code",
   "execution_count": 94,
   "id": "50cd2db5",
   "metadata": {},
   "outputs": [],
   "source": [
    "from sklearn.linear_model import LinearRegression"
   ]
  },
  {
   "cell_type": "code",
   "execution_count": 95,
   "id": "9c4e70d4",
   "metadata": {},
   "outputs": [],
   "source": [
    "reg=LinearRegression()"
   ]
  },
  {
   "cell_type": "code",
   "execution_count": 96,
   "id": "ca7ed197",
   "metadata": {},
   "outputs": [],
   "source": [
    "regmodel=reg.fit(X,y)"
   ]
  },
  {
   "cell_type": "code",
   "execution_count": 98,
   "id": "30d26155",
   "metadata": {},
   "outputs": [
    {
     "data": {
      "text/plain": [
       "0.5637737001510252"
      ]
     },
     "execution_count": 98,
     "metadata": {},
     "output_type": "execute_result"
    }
   ],
   "source": [
    "regmodel.score(X,y) # r SQUARE -0.563773"
   ]
  },
  {
   "cell_type": "code",
   "execution_count": 100,
   "id": "976dab47",
   "metadata": {},
   "outputs": [
    {
     "data": {
      "text/plain": [
       "-577.1596763296416"
      ]
     },
     "execution_count": 100,
     "metadata": {},
     "output_type": "execute_result"
    }
   ],
   "source": [
    "regmodel.intercept_"
   ]
  },
  {
   "cell_type": "code",
   "execution_count": 102,
   "id": "85f01c23",
   "metadata": {},
   "outputs": [
    {
     "name": "stdout",
     "output_type": "stream",
     "text": [
      "[('Item_Weight', -0.5200273627393368), ('Item_Visibility', -300.0670763007762), ('Item_MRP', 15.570635789832687), ('Outlet_age', 14.3742284804206), ('Item_Fat_Content_Low Fat', -21.059166195449148), ('Item_Fat_Content_Regular', 21.059166195452505), ('Item_Type_Baking Goods', -3.2104710018473472), ('Item_Type_Breads', 1.9250378206217258), ('Item_Type_Breakfast', 3.9839650536804196), ('Item_Type_Canned', 22.271905888700818), ('Item_Type_Dairy', -53.00446586276468), ('Item_Type_Frozen Foods', -31.253550501582133), ('Item_Type_Fruits and Vegetables', 26.51372579752215), ('Item_Type_Hard Drinks', -47.26078009769694), ('Item_Type_Health and Hygiene', 4.423071407524767), ('Item_Type_Household', -24.342665740883756), ('Item_Type_Meat', -3.858079857798199), ('Item_Type_Others', -6.538845577655864), ('Item_Type_Seafood', 181.66630948761173), ('Item_Type_Snack Foods', -14.60831128652173), ('Item_Type_Soft Drinks', -74.89160051671654), ('Item_Type_Starchy Foods', 18.184754987789375), ('Outlet_Identifier_OUT010', -418.12885586557996), ('Outlet_Identifier_OUT013', -79.43387357489912), ('Outlet_Identifier_OUT017', 211.0997614338963), ('Outlet_Identifier_OUT018', -92.8114763476371), ('Outlet_Identifier_OUT019', -473.5145808163261), ('Outlet_Identifier_OUT027', 598.1841583987343), ('Outlet_Identifier_OUT035', 64.66934220661327), ('Outlet_Identifier_OUT045', -35.0198339492027), ('Outlet_Identifier_OUT046', 309.6530091356917), ('Outlet_Identifier_OUT049', -84.69765062128609), ('Outlet_Size_High', -79.43387357489861), ('Outlet_Size_Medium', 420.67503142980866), ('Outlet_Size_Missing', -242.0489283808871), ('Outlet_Size_Small', -99.19222947402454), ('Outlet_Location_Type_Tier 1', -248.55922230192428), ('Outlet_Location_Type_Tier 2', 240.74926969130735), ('Outlet_Location_Type_Tier 3', 7.809952610617125), ('Outlet_Type_Grocery Store', -891.6434366819103), ('Outlet_Type_Supermarket Type1', 386.2707546308068), ('Outlet_Type_Supermarket Type2', -92.81147634763738), ('Outlet_Type_Supermarket Type3', 598.1841583987342), ('Item_code_DR', 35.433509175979786), ('Item_code_FD', -8.975069264969578), ('Item_code_NC', -26.458439911013574)]\n"
     ]
    }
   ],
   "source": [
    "print(list(zip(X.columns,regmodel.coef_)))"
   ]
  },
  {
   "cell_type": "code",
   "execution_count": 103,
   "id": "245552f9",
   "metadata": {},
   "outputs": [],
   "source": [
    "regpredict=regmodel.predict(X)"
   ]
  },
  {
   "cell_type": "code",
   "execution_count": 104,
   "id": "7cf5a892",
   "metadata": {},
   "outputs": [
    {
     "data": {
      "text/plain": [
       "array([4009.76011104,  562.5129848 , 2369.82262179, ..., 1525.94416664,\n",
       "       1394.19304552, 1209.38313357])"
      ]
     },
     "execution_count": 104,
     "metadata": {},
     "output_type": "execute_result"
    }
   ],
   "source": [
    "regpredict"
   ]
  },
  {
   "cell_type": "code",
   "execution_count": 107,
   "id": "4f572ba9",
   "metadata": {},
   "outputs": [],
   "source": [
    "regresidual=y-regpredict"
   ]
  },
  {
   "cell_type": "code",
   "execution_count": 109,
   "id": "10bb41b5",
   "metadata": {},
   "outputs": [
    {
     "data": {
      "text/plain": [
       "0       -274.622111\n",
       "1       -119.090185\n",
       "2       -272.552622\n",
       "3       -341.004532\n",
       "4         85.776022\n",
       "           ...     \n",
       "8518    -643.383109\n",
       "8519   -1171.108098\n",
       "8520    -332.830567\n",
       "8521     451.404554\n",
       "8522    -443.713134\n",
       "Name: Item_Outlet_Sales, Length: 8523, dtype: float64"
      ]
     },
     "execution_count": 109,
     "metadata": {},
     "output_type": "execute_result"
    }
   ],
   "source": [
    "regresidual"
   ]
  },
  {
   "cell_type": "code",
   "execution_count": 110,
   "id": "f8c1bbcc",
   "metadata": {},
   "outputs": [
    {
     "data": {
      "text/plain": [
       "1127.0330147429918"
      ]
     },
     "execution_count": 110,
     "metadata": {},
     "output_type": "execute_result"
    }
   ],
   "source": [
    "np.sqrt(np.mean(regresidual**2))"
   ]
  },
  {
   "cell_type": "code",
   "execution_count": null,
   "id": "62eb616b",
   "metadata": {},
   "outputs": [],
   "source": []
  }
 ],
 "metadata": {
  "kernelspec": {
   "display_name": "Python 3 (ipykernel)",
   "language": "python",
   "name": "python3"
  },
  "language_info": {
   "codemirror_mode": {
    "name": "ipython",
    "version": 3
   },
   "file_extension": ".py",
   "mimetype": "text/x-python",
   "name": "python",
   "nbconvert_exporter": "python",
   "pygments_lexer": "ipython3",
   "version": "3.9.7"
  }
 },
 "nbformat": 4,
 "nbformat_minor": 5
}
